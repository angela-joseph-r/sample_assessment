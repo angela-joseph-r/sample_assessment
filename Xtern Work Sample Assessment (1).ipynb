{
 "cells": [
  {
   "cell_type": "code",
   "execution_count": 77,
   "id": "75c3826a",
   "metadata": {},
   "outputs": [],
   "source": [
    "import pandas as pd\n",
    "import re"
   ]
  },
  {
   "cell_type": "code",
   "execution_count": 2,
   "id": "1f9699fe",
   "metadata": {},
   "outputs": [],
   "source": [
    "df1 = pd.read_csv(\"Xtern_housing.csv\")"
   ]
  },
  {
   "cell_type": "code",
   "execution_count": 3,
   "id": "12b10934",
   "metadata": {},
   "outputs": [],
   "source": [
    "df2 = pd.read_csv(\"events.csv\")"
   ]
  },
  {
   "cell_type": "code",
   "execution_count": 4,
   "id": "87abbf0c",
   "metadata": {},
   "outputs": [],
   "source": [
    "df3 = pd.read_csv(\"restaurants.csv\")"
   ]
  },
  {
   "cell_type": "code",
   "execution_count": 5,
   "id": "9adc09b3",
   "metadata": {},
   "outputs": [
    {
     "data": {
      "text/html": [
       "<div>\n",
       "<style scoped>\n",
       "    .dataframe tbody tr th:only-of-type {\n",
       "        vertical-align: middle;\n",
       "    }\n",
       "\n",
       "    .dataframe tbody tr th {\n",
       "        vertical-align: top;\n",
       "    }\n",
       "\n",
       "    .dataframe thead th {\n",
       "        text-align: right;\n",
       "    }\n",
       "</style>\n",
       "<table border=\"1\" class=\"dataframe\">\n",
       "  <thead>\n",
       "    <tr style=\"text-align: right;\">\n",
       "      <th></th>\n",
       "      <th>Unnamed: 0</th>\n",
       "      <th>car</th>\n",
       "      <th>bike</th>\n",
       "    </tr>\n",
       "  </thead>\n",
       "  <tbody>\n",
       "    <tr>\n",
       "      <th>0</th>\n",
       "      <td>The Speak Easy</td>\n",
       "      <td>7.4 miles</td>\n",
       "      <td>7.7 miles</td>\n",
       "    </tr>\n",
       "    <tr>\n",
       "      <th>1</th>\n",
       "      <td>zWORKS</td>\n",
       "      <td>18.1 miles</td>\n",
       "      <td>16.1 miles</td>\n",
       "    </tr>\n",
       "    <tr>\n",
       "      <th>2</th>\n",
       "      <td>Launch Fishers</td>\n",
       "      <td>22.4 miles</td>\n",
       "      <td>21.9 miles</td>\n",
       "    </tr>\n",
       "    <tr>\n",
       "      <th>3</th>\n",
       "      <td>Industrious Mass Ave</td>\n",
       "      <td>2.7 miles</td>\n",
       "      <td>1.8 miles</td>\n",
       "    </tr>\n",
       "    <tr>\n",
       "      <th>4</th>\n",
       "      <td>Launch Indy</td>\n",
       "      <td>2.4 miles</td>\n",
       "      <td>15 miles</td>\n",
       "    </tr>\n",
       "  </tbody>\n",
       "</table>\n",
       "</div>"
      ],
      "text/plain": [
       "             Unnamed: 0         car        bike\n",
       "0       The Speak Easy    7.4 miles   7.7 miles\n",
       "1                zWORKS  18.1 miles  16.1 miles\n",
       "2        Launch Fishers  22.4 miles  21.9 miles\n",
       "3  Industrious Mass Ave   2.7 miles   1.8 miles\n",
       "4          Launch Indy   2.4 miles     15 miles"
      ]
     },
     "execution_count": 5,
     "metadata": {},
     "output_type": "execute_result"
    }
   ],
   "source": [
    "df1"
   ]
  },
  {
   "cell_type": "code",
   "execution_count": 70,
   "id": "1348cbd9",
   "metadata": {},
   "outputs": [
    {
     "data": {
      "text/html": [
       "<div>\n",
       "<style scoped>\n",
       "    .dataframe tbody tr th:only-of-type {\n",
       "        vertical-align: middle;\n",
       "    }\n",
       "\n",
       "    .dataframe tbody tr th {\n",
       "        vertical-align: top;\n",
       "    }\n",
       "\n",
       "    .dataframe thead th {\n",
       "        text-align: right;\n",
       "    }\n",
       "</style>\n",
       "<table border=\"1\" class=\"dataframe\">\n",
       "  <thead>\n",
       "    <tr style=\"text-align: right;\">\n",
       "      <th></th>\n",
       "      <th>Unnamed: 0</th>\n",
       "      <th>car</th>\n",
       "      <th>bike</th>\n",
       "      <th>average distance</th>\n",
       "    </tr>\n",
       "  </thead>\n",
       "  <tbody>\n",
       "    <tr>\n",
       "      <th>0</th>\n",
       "      <td>The Speak Easy</td>\n",
       "      <td>7.4 miles</td>\n",
       "      <td>7.7 miles</td>\n",
       "      <td>7.55</td>\n",
       "    </tr>\n",
       "    <tr>\n",
       "      <th>1</th>\n",
       "      <td>zWORKS</td>\n",
       "      <td>18.1 miles</td>\n",
       "      <td>16.1 miles</td>\n",
       "      <td>17.1</td>\n",
       "    </tr>\n",
       "    <tr>\n",
       "      <th>2</th>\n",
       "      <td>Launch Fishers</td>\n",
       "      <td>22.4 miles</td>\n",
       "      <td>21.9 miles</td>\n",
       "      <td>22.15</td>\n",
       "    </tr>\n",
       "    <tr>\n",
       "      <th>3</th>\n",
       "      <td>Industrious Mass Ave</td>\n",
       "      <td>2.7 miles</td>\n",
       "      <td>1.8 miles</td>\n",
       "      <td>2.25</td>\n",
       "    </tr>\n",
       "    <tr>\n",
       "      <th>4</th>\n",
       "      <td>Launch Indy</td>\n",
       "      <td>2.4 miles</td>\n",
       "      <td>15 miles</td>\n",
       "      <td>8.7</td>\n",
       "    </tr>\n",
       "  </tbody>\n",
       "</table>\n",
       "</div>"
      ],
      "text/plain": [
       "             Unnamed: 0         car        bike average distance\n",
       "0       The Speak Easy    7.4 miles   7.7 miles             7.55\n",
       "1                zWORKS  18.1 miles  16.1 miles             17.1\n",
       "2        Launch Fishers  22.4 miles  21.9 miles            22.15\n",
       "3  Industrious Mass Ave   2.7 miles   1.8 miles             2.25\n",
       "4          Launch Indy   2.4 miles     15 miles              8.7"
      ]
     },
     "execution_count": 70,
     "metadata": {},
     "output_type": "execute_result"
    }
   ],
   "source": [
    "\"\"\"Finding the average distance to travel by bike \n",
    "or car to each coworking space\"\"\"\n",
    "ndf1car = []\n",
    "for car in df1.car:\n",
    "    car_in_mile = re.sub(' miles',  '', car)    \n",
    "    ndf1car.append(car_in_mile)\n",
    "\n",
    "ndf1bike = []\n",
    "for bike in df1.bike:\n",
    "    bike_in_mile = re.sub(' miles',  '', bike)    \n",
    "    ndf1bike.append(bike_in_mile)\n",
    "    \n",
    "diff = []\n",
    "for i in range(0, len(ndf1car)):\n",
    "    diff.append(str(round(((float(ndf1car[i])+float(ndf1bike[i]))/2), 2)))\n",
    "df1['average distance'] = diff\n",
    "df1"
   ]
  },
  {
   "cell_type": "markdown",
   "id": "6f7fd0ce",
   "metadata": {},
   "source": [
    "From the addition of the average distance column, it is clear that the Speak Easy coworkering space is the closest to the housing provided by transportation of bike or car. The average distance of travel from the housing to The Speak Easy coworkering location is 7.55 miles. The next nearest location is the Launch Indy which is 8.7 miles from housing."
   ]
  },
  {
   "cell_type": "code",
   "execution_count": 65,
   "id": "acfaee22",
   "metadata": {},
   "outputs": [
    {
     "data": {
      "text/html": [
       "<div>\n",
       "<style scoped>\n",
       "    .dataframe tbody tr th:only-of-type {\n",
       "        vertical-align: middle;\n",
       "    }\n",
       "\n",
       "    .dataframe tbody tr th {\n",
       "        vertical-align: top;\n",
       "    }\n",
       "\n",
       "    .dataframe thead th {\n",
       "        text-align: right;\n",
       "    }\n",
       "</style>\n",
       "<table border=\"1\" class=\"dataframe\">\n",
       "  <thead>\n",
       "    <tr style=\"text-align: right;\">\n",
       "      <th></th>\n",
       "      <th>event_name</th>\n",
       "      <th>type_of_event</th>\n",
       "      <th>address</th>\n",
       "      <th>date</th>\n",
       "      <th>The_Speak_Easy</th>\n",
       "      <th>zWORKS</th>\n",
       "      <th>Launch_Fishers</th>\n",
       "      <th>Industrious_Mass_Ave</th>\n",
       "      <th>Launch_Indy</th>\n",
       "    </tr>\n",
       "  </thead>\n",
       "  <tbody>\n",
       "    <tr>\n",
       "      <th>0</th>\n",
       "      <td>Telly Leung with the Telly Leung Quartet</td>\n",
       "      <td>Music</td>\n",
       "      <td>924 N. Pennsylvania St., Ste. B, Indianapolis,...</td>\n",
       "      <td>10/23/21</td>\n",
       "      <td>5.4</td>\n",
       "      <td>17.3</td>\n",
       "      <td>16.1</td>\n",
       "      <td>1.3</td>\n",
       "      <td>1.9</td>\n",
       "    </tr>\n",
       "    <tr>\n",
       "      <th>1</th>\n",
       "      <td>Buffalo Wabs &amp; The Price Hill Hustle</td>\n",
       "      <td>Music</td>\n",
       "      <td>1043 Virginia Ave., Ste. #4, Indianapolis, IN ...</td>\n",
       "      <td>10/22/21</td>\n",
       "      <td>7.2</td>\n",
       "      <td>19.6</td>\n",
       "      <td>18.0</td>\n",
       "      <td>1.4</td>\n",
       "      <td>1.6</td>\n",
       "    </tr>\n",
       "    <tr>\n",
       "      <th>2</th>\n",
       "      <td>Miami Heat vs. Indiana Pacers</td>\n",
       "      <td>Sports</td>\n",
       "      <td>125 S. Pennsylvania St.\\nIndianapolis, IN 46204</td>\n",
       "      <td>10/23/21</td>\n",
       "      <td>6.5</td>\n",
       "      <td>18.4</td>\n",
       "      <td>17.2</td>\n",
       "      <td>0.2</td>\n",
       "      <td>0.5</td>\n",
       "    </tr>\n",
       "    <tr>\n",
       "      <th>3</th>\n",
       "      <td>The Tarkington at the Center for the Performin...</td>\n",
       "      <td>Art</td>\n",
       "      <td>3 Center Green\\nCarmel, IN 46032</td>\n",
       "      <td>10/29/21</td>\n",
       "      <td>11.2</td>\n",
       "      <td>8.4</td>\n",
       "      <td>8.3</td>\n",
       "      <td>23.4</td>\n",
       "      <td>16.7</td>\n",
       "    </tr>\n",
       "    <tr>\n",
       "      <th>4</th>\n",
       "      <td>Dia de Muertos (Day of the Dead) Community Cel...</td>\n",
       "      <td>Art</td>\n",
       "      <td>500 W. Washington St., Indianapolis, IN 46204</td>\n",
       "      <td>10/30/21</td>\n",
       "      <td>6.9</td>\n",
       "      <td>17.9</td>\n",
       "      <td>22.2</td>\n",
       "      <td>1.0</td>\n",
       "      <td>1.1</td>\n",
       "    </tr>\n",
       "  </tbody>\n",
       "</table>\n",
       "</div>"
      ],
      "text/plain": [
       "                                          event_name type_of_event  \\\n",
       "0          Telly Leung with the Telly Leung Quartet          Music   \n",
       "1              Buffalo Wabs & The Price Hill Hustle          Music   \n",
       "2                     Miami Heat vs. Indiana Pacers        Sports    \n",
       "3  The Tarkington at the Center for the Performin...           Art   \n",
       "4  Dia de Muertos (Day of the Dead) Community Cel...           Art   \n",
       "\n",
       "                                             address     date   \\\n",
       "0  924 N. Pennsylvania St., Ste. B, Indianapolis,...  10/23/21   \n",
       "1  1043 Virginia Ave., Ste. #4, Indianapolis, IN ...  10/22/21   \n",
       "2    125 S. Pennsylvania St.\\nIndianapolis, IN 46204  10/23/21   \n",
       "3                   3 Center Green\\nCarmel, IN 46032  10/29/21   \n",
       "4      500 W. Washington St., Indianapolis, IN 46204  10/30/21   \n",
       "\n",
       "   The_Speak_Easy   zWORKS   Launch_Fishers   Industrious_Mass_Ave   \\\n",
       "0              5.4     17.3             16.1                    1.3   \n",
       "1              7.2     19.6             18.0                    1.4   \n",
       "2              6.5     18.4             17.2                    0.2   \n",
       "3             11.2      8.4              8.3                   23.4   \n",
       "4              6.9     17.9             22.2                    1.0   \n",
       "\n",
       "   Launch_Indy   \n",
       "0           1.9  \n",
       "1           1.6  \n",
       "2           0.5  \n",
       "3          16.7  \n",
       "4           1.1  "
      ]
     },
     "execution_count": 65,
     "metadata": {},
     "output_type": "execute_result"
    }
   ],
   "source": [
    "df2.head()"
   ]
  },
  {
   "cell_type": "code",
   "execution_count": 63,
   "id": "c057cdd2",
   "metadata": {},
   "outputs": [
    {
     "name": "stdout",
     "output_type": "stream",
     "text": [
      "The_Speak_Easy:  6.47 miles\n",
      "zWORKS:  14.38 miles\n",
      "Launch_Fishers:  14.94 miles\n",
      "Industrious_Mass_Ave:  7.89 miles\n",
      "Launch_Indy:  6.75 miles\n"
     ]
    }
   ],
   "source": [
    "c1 = df2['The_Speak_Easy '].mean()\n",
    "c2 = df2['zWORKS '].mean()\n",
    "c3 = df2['Launch_Fishers '].mean()\n",
    "c4 = df2['Industrious_Mass_Ave '].mean()\n",
    "c5 = df2['Launch_Indy '].mean()\n",
    "print('The_Speak_Easy: ', round(c1, 2), \"miles\")\n",
    "print('zWORKS: ', round(c2, 2), \"miles\")\n",
    "print('Launch_Fishers: ', round(c3, 2), \"miles\")\n",
    "print('Industrious_Mass_Ave: ', round(c4, 2), \"miles\")\n",
    "print('Launch_Indy: ', round(c5, 2), \"miles\")"
   ]
  },
  {
   "cell_type": "markdown",
   "id": "0c070eba",
   "metadata": {},
   "source": [
    "From the second dataframe it is clear that The Speak Easy coworkering location is a hub of many events that interns can participate on a weekly basis. The average distance of travel for nearby events for The Speak Easy is 6.47 miles while Launch_Indy closely follows at 6.75 miles. "
   ]
  },
  {
   "cell_type": "code",
   "execution_count": 66,
   "id": "3cc7f1d4",
   "metadata": {},
   "outputs": [
    {
     "data": {
      "text/html": [
       "<div>\n",
       "<style scoped>\n",
       "    .dataframe tbody tr th:only-of-type {\n",
       "        vertical-align: middle;\n",
       "    }\n",
       "\n",
       "    .dataframe tbody tr th {\n",
       "        vertical-align: top;\n",
       "    }\n",
       "\n",
       "    .dataframe thead th {\n",
       "        text-align: right;\n",
       "    }\n",
       "</style>\n",
       "<table border=\"1\" class=\"dataframe\">\n",
       "  <thead>\n",
       "    <tr style=\"text-align: right;\">\n",
       "      <th></th>\n",
       "      <th>restaurants</th>\n",
       "      <th>address</th>\n",
       "      <th>cuisine</th>\n",
       "      <th>The_Speak_Easy</th>\n",
       "      <th>zWORKS</th>\n",
       "      <th>Launch_Fishers</th>\n",
       "      <th>Industrious_Mass_Ave</th>\n",
       "      <th>Launch_Indy</th>\n",
       "    </tr>\n",
       "  </thead>\n",
       "  <tbody>\n",
       "    <tr>\n",
       "      <th>0</th>\n",
       "      <td>Nesso</td>\n",
       "      <td>339 Delaware St, Indianapolis, IN 46204</td>\n",
       "      <td>Italian</td>\n",
       "      <td>6.7</td>\n",
       "      <td>18.7</td>\n",
       "      <td>21.9</td>\n",
       "      <td>0.5</td>\n",
       "      <td>0.4</td>\n",
       "    </tr>\n",
       "    <tr>\n",
       "      <th>1</th>\n",
       "      <td>Greeks Islands</td>\n",
       "      <td>906 S Meridian St, Indianapolis, IN 46225</td>\n",
       "      <td>Greek</td>\n",
       "      <td>7.2</td>\n",
       "      <td>19.0</td>\n",
       "      <td>22.9</td>\n",
       "      <td>1.0</td>\n",
       "      <td>0.3</td>\n",
       "    </tr>\n",
       "    <tr>\n",
       "      <th>2</th>\n",
       "      <td>Yolk - City Way</td>\n",
       "      <td>220 E South St, Indianapolis, IN 46204</td>\n",
       "      <td>Brunch</td>\n",
       "      <td>6.6</td>\n",
       "      <td>18.8</td>\n",
       "      <td>21.8</td>\n",
       "      <td>0.5</td>\n",
       "      <td>0.4</td>\n",
       "    </tr>\n",
       "    <tr>\n",
       "      <th>3</th>\n",
       "      <td>Nada</td>\n",
       "      <td>11 W Maryland St, Indianapolis, IN 46204</td>\n",
       "      <td>Mexican</td>\n",
       "      <td>6.4</td>\n",
       "      <td>18.4</td>\n",
       "      <td>21.5</td>\n",
       "      <td>0.3</td>\n",
       "      <td>0.6</td>\n",
       "    </tr>\n",
       "    <tr>\n",
       "      <th>4</th>\n",
       "      <td>Fogo de Chão Brazilian Steakhouse</td>\n",
       "      <td>117 E Washington St, Indianapolis, IN 46204</td>\n",
       "      <td>Brazilian</td>\n",
       "      <td>6.4</td>\n",
       "      <td>18.6</td>\n",
       "      <td>21.5</td>\n",
       "      <td>0.3</td>\n",
       "      <td>0.8</td>\n",
       "    </tr>\n",
       "  </tbody>\n",
       "</table>\n",
       "</div>"
      ],
      "text/plain": [
       "                        restaurants   \\\n",
       "0                              Nesso   \n",
       "1                    Greeks Islands    \n",
       "2                   Yolk - City Way    \n",
       "3                              Nada    \n",
       "4  Fogo de Chão Brazilian Steakhouse   \n",
       "\n",
       "                                       address     cuisine  The_Speak_Easy   \\\n",
       "0      339 Delaware St, Indianapolis, IN 46204     Italian              6.7   \n",
       "1    906 S Meridian St, Indianapolis, IN 46225       Greek              7.2   \n",
       "2       220 E South St, Indianapolis, IN 46204      Brunch              6.6   \n",
       "3     11 W Maryland St, Indianapolis, IN 46204    Mexican               6.4   \n",
       "4  117 E Washington St, Indianapolis, IN 46204  Brazilian               6.4   \n",
       "\n",
       "   zWORKS   Launch_Fishers   Industrious_Mass_Ave   Launch_Indy   \n",
       "0     18.7             21.9                    0.5           0.4  \n",
       "1     19.0             22.9                    1.0           0.3  \n",
       "2     18.8             21.8                    0.5           0.4  \n",
       "3     18.4             21.5                    0.3           0.6  \n",
       "4     18.6             21.5                    0.3           0.8  "
      ]
     },
     "execution_count": 66,
     "metadata": {},
     "output_type": "execute_result"
    }
   ],
   "source": [
    "df3.head()"
   ]
  },
  {
   "cell_type": "code",
   "execution_count": 67,
   "id": "04a8a5c4",
   "metadata": {},
   "outputs": [
    {
     "name": "stdout",
     "output_type": "stream",
     "text": [
      "The_Speak_Easy:  6.07 miles\n",
      "zWORKS:  17.78 miles\n",
      "Launch_Fishers:  20.94 miles\n",
      "Industrious_Mass_Ave:  1.33 miles\n",
      "Launch_Indy:  1.42 miles\n"
     ]
    }
   ],
   "source": [
    "c1 = df3['The_Speak_Easy '].mean()\n",
    "c2 = df3['zWORKS '].mean()\n",
    "c3 = df3['Launch_Fishers '].mean()\n",
    "c4 = df3['Industrious_Mass_Ave '].mean()\n",
    "c5 = df3['Launch_Indy '].mean()\n",
    "print('The_Speak_Easy: ', round(c1, 2), \"miles\")\n",
    "print('zWORKS: ', round(c2, 2), \"miles\")\n",
    "print('Launch_Fishers: ', round(c3, 2), \"miles\")\n",
    "print('Industrious_Mass_Ave: ', round(c4, 2), \"miles\")\n",
    "print('Launch_Indy: ', round(c5, 2), \"miles\")"
   ]
  },
  {
   "cell_type": "markdown",
   "id": "b9363105",
   "metadata": {},
   "source": [
    "After calculating, the average distances from the restaurants in Indianapolis to each of the coworkering space both Industrious_Mass_Ave and Launch_Indy were the two closest to a majority of the restaurants. The average distance by car for the Industrious Mass Ave was 1.33 miles. The average distance by car for the Launch Indy was 1.42 miles. "
   ]
  },
  {
   "cell_type": "code",
   "execution_count": 85,
   "id": "0165d0b0",
   "metadata": {},
   "outputs": [
    {
     "data": {
      "text/plain": [
       "<matplotlib.collections.PathCollection at 0x7f9912d4bbe0>"
      ]
     },
     "execution_count": 85,
     "metadata": {},
     "output_type": "execute_result"
    },
    {
     "data": {
      "image/png": "[encoded data removed]",
      "text/plain": [
       "<Figure size 432x288 with 1 Axes>"
      ]
     },
     "metadata": {
      "needs_background": "light"
     },
     "output_type": "display_data"
    }
   ],
   "source": [
    "import matplotlib.pyplot as plt\n",
    "\n",
    "plt.scatter(x = df1['car'], y = df1['bike'])"
   ]
  },
  {
   "cell_type": "code",
   "execution_count": null,
   "id": "a80ff560",
   "metadata": {},
   "outputs": [],
   "source": []
  }
 ],
 "metadata": {
  "kernelspec": {
   "display_name": "Python 3",
   "language": "python",
   "name": "python3"
  },
  "language_info": {
   "codemirror_mode": {
    "name": "ipython",
    "version": 3
   },
   "file_extension": ".py",
   "mimetype": "text/x-python",
   "name": "python",
   "nbconvert_exporter": "python",
   "pygments_lexer": "ipython3",
   "version": "3.8.8"
  }
 },
 "nbformat": 4,
 "nbformat_minor": 5
}
